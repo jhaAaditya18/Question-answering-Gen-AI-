{
 "cells": [
  {
   "cell_type": "code",
   "execution_count": 2,
   "id": "6debc32c",
   "metadata": {},
   "outputs": [],
   "source": [
    "from transformers import AutoTokenizer, AutoModelForQuestionAnswering\n",
    "import torch\n",
    "\n",
    "# Model checkpoint (you had a small typo: \"incased\" → \"uncased\")\n",
    "model_name = \"bert-large-uncased-whole-word-masking-finetuned-squad\"\n"
   ]
  },
  {
   "cell_type": "markdown",
   "id": "ce5481b3",
   "metadata": {},
   "source": []
  },
  {
   "cell_type": "code",
   "execution_count": 3,
   "id": "93e2f124",
   "metadata": {},
   "outputs": [
    {
     "name": "stderr",
     "output_type": "stream",
     "text": [
      "Some weights of the model checkpoint at bert-large-uncased-whole-word-masking-finetuned-squad were not used when initializing BertForQuestionAnswering: ['bert.pooler.dense.bias', 'bert.pooler.dense.weight']\n",
      "- This IS expected if you are initializing BertForQuestionAnswering from the checkpoint of a model trained on another task or with another architecture (e.g. initializing a BertForSequenceClassification model from a BertForPreTraining model).\n",
      "- This IS NOT expected if you are initializing BertForQuestionAnswering from the checkpoint of a model that you expect to be exactly identical (initializing a BertForSequenceClassification model from a BertForSequenceClassification model).\n"
     ]
    }
   ],
   "source": [
    "\n",
    "# Load tokenizer and model\n",
    "tokenizer = AutoTokenizer.from_pretrained(model_name)\n",
    "model = AutoModelForQuestionAnswering.from_pretrained(model_name)\n"
   ]
  },
  {
   "cell_type": "code",
   "execution_count": 15,
   "id": "155a822c",
   "metadata": {},
   "outputs": [],
   "source": [
    "\n",
    "# Example context and question\n",
    "context = \"\"\"KPR Institute of Engineering and Technology (KPRIET) is an autonomous institution\n",
    "located in Coimbatore, Tamil Nadu. It offers undergraduate and postgraduate programs in engineering and technology.\"\"\"\n",
    "question = \"Where is kpriet?\"\n",
    "\n",
    "# Tokenize input\n",
    "inputs = tokenizer(question, context, return_tensors=\"pt\")\n"
   ]
  },
  {
   "cell_type": "code",
   "execution_count": 16,
   "id": "1a6bc9e4",
   "metadata": {},
   "outputs": [
    {
     "data": {
      "text/plain": [
       "{'input_ids': tensor([[  101,  2073,  2003,  1047, 18098,  2666,  2102,  1029,   102,  1047,\n",
       "         18098,  2820,  1997,  3330,  1998,  2974,  1006,  1047, 18098,  2666,\n",
       "          2102,  1007,  2003,  2019,  8392,  5145,  2284,  1999,  2522,  5714,\n",
       "         14479,  5686,  1010,  6008, 10703,  1012,  2009,  4107,  8324,  1998,\n",
       "         15438,  3454,  1999,  3330,  1998,  2974,  1012,   102]]), 'token_type_ids': tensor([[0, 0, 0, 0, 0, 0, 0, 0, 0, 1, 1, 1, 1, 1, 1, 1, 1, 1, 1, 1, 1, 1, 1, 1,\n",
       "         1, 1, 1, 1, 1, 1, 1, 1, 1, 1, 1, 1, 1, 1, 1, 1, 1, 1, 1, 1, 1, 1, 1, 1]]), 'attention_mask': tensor([[1, 1, 1, 1, 1, 1, 1, 1, 1, 1, 1, 1, 1, 1, 1, 1, 1, 1, 1, 1, 1, 1, 1, 1,\n",
       "         1, 1, 1, 1, 1, 1, 1, 1, 1, 1, 1, 1, 1, 1, 1, 1, 1, 1, 1, 1, 1, 1, 1, 1]])}"
      ]
     },
     "execution_count": 16,
     "metadata": {},
     "output_type": "execute_result"
    }
   ],
   "source": [
    "inputs"
   ]
  },
  {
   "cell_type": "code",
   "execution_count": 17,
   "id": "b51b55a0",
   "metadata": {},
   "outputs": [],
   "source": [
    "\n",
    "# Convert IDs to tokens (your line corrected)\n",
    "tokens = tokenizer.convert_ids_to_tokens(inputs[\"input_ids\"][0])\n",
    "\n",
    "# Get model outputs\n",
    "with torch.no_grad():\n",
    "    outputs = model(**inputs)\n",
    "\n",
    "# Extract start and end scores\n",
    "start_scores = outputs.start_logits\n",
    "end_scores = outputs.end_logits\n"
   ]
  },
  {
   "cell_type": "code",
   "execution_count": 18,
   "id": "54b0cb19",
   "metadata": {},
   "outputs": [],
   "source": [
    "\n",
    "# Get most likely answer tokens\n",
    "start_idx = torch.argmax(start_scores)\n",
    "end_idx = torch.argmax(end_scores) + 1\n",
    "\n",
    "answer_tokens = tokens[start_idx:end_idx]\n",
    "answer = tokenizer.convert_tokens_to_string(answer_tokens)\n"
   ]
  },
  {
   "cell_type": "code",
   "execution_count": 19,
   "id": "e9209c44",
   "metadata": {},
   "outputs": [
    {
     "name": "stdout",
     "output_type": "stream",
     "text": [
      "Question: Where is kpriet?\n",
      "Answer: coimbatore, tamil nadu\n"
     ]
    }
   ],
   "source": [
    "\n",
    "print(\"Question:\", question)\n",
    "print(\"Answer:\", answer)\n"
   ]
  },
  {
   "cell_type": "code",
   "execution_count": null,
   "id": "d1fcd9e2",
   "metadata": {},
   "outputs": [],
   "source": []
  },
  {
   "cell_type": "code",
   "execution_count": null,
   "id": "b1be4e13",
   "metadata": {},
   "outputs": [],
   "source": []
  }
 ],
 "metadata": {
  "kernelspec": {
   "display_name": "base",
   "language": "python",
   "name": "python3"
  },
  "language_info": {
   "codemirror_mode": {
    "name": "ipython",
    "version": 3
   },
   "file_extension": ".py",
   "mimetype": "text/x-python",
   "name": "python",
   "nbconvert_exporter": "python",
   "pygments_lexer": "ipython3",
   "version": "3.12.3"
  }
 },
 "nbformat": 4,
 "nbformat_minor": 5
}
