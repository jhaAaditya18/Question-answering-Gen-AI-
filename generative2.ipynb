{
 "cells": [
  {
   "cell_type": "code",
   "execution_count": 6,
   "id": "1f0d4acc",
   "metadata": {},
   "outputs": [
    {
     "name": "stdout",
     "output_type": "stream",
     "text": [
      "Question: Where is trippur located?\n",
      "Answer: Tamil Nadu\n"
     ]
    }
   ],
   "source": [
    "from transformers import AutoTokenizer, AutoModelForSeq2SeqLM\n",
    "\n",
    "# Use a generative QA model (Flan-T5 is instruction-tuned)\n",
    "model_name = \"google/flan-t5-base\"\n",
    "tokenizer = AutoTokenizer.from_pretrained(model_name)\n",
    "model = AutoModelForSeq2SeqLM.from_pretrained(model_name)\n",
    "\n",
    "# Example context and question\n",
    "context = \"\"\"KPR Institute of Engineering and Technology (KPRIET) is an autonomous institution\n",
    "located in Coimbatore, Tamil Nadu. It offers undergraduate and postgraduate programs in engineering and technology.\"\"\"\n",
    "question = \"Where is trippur located?\"\n",
    "\n",
    "# Format input for Flan-T5\n",
    "input_text = f\"Answer the question based on the context:\\nContext: {context}\\nQuestion: {question}\"\n",
    "\n",
    "# Tokenize\n",
    "inputs = tokenizer(input_text, return_tensors=\"pt\")\n",
    "\n",
    "# Generate answer\n",
    "outputs = model.generate(\n",
    "    **inputs, \n",
    "    max_length=64, \n",
    "    num_beams=4, \n",
    "    early_stopping=True\n",
    ")\n",
    "\n",
    "# Decode\n",
    "answer = tokenizer.decode(outputs[0], skip_special_tokens=True)\n",
    "\n",
    "print(\"Question:\", question)\n",
    "print(\"Answer:\", answer)\n"
   ]
  },
  {
   "cell_type": "code",
   "execution_count": null,
   "id": "4fb79e36",
   "metadata": {},
   "outputs": [],
   "source": []
  }
 ],
 "metadata": {
  "kernelspec": {
   "display_name": "base",
   "language": "python",
   "name": "python3"
  },
  "language_info": {
   "codemirror_mode": {
    "name": "ipython",
    "version": 3
   },
   "file_extension": ".py",
   "mimetype": "text/x-python",
   "name": "python",
   "nbconvert_exporter": "python",
   "pygments_lexer": "ipython3",
   "version": "3.12.3"
  }
 },
 "nbformat": 4,
 "nbformat_minor": 5
}
